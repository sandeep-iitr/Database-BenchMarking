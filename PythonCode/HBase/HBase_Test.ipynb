{
 "cells": [
  {
   "cell_type": "markdown",
   "metadata": {},
   "source": [
    "# Hbase in Python\n",
    "## Requirements\n",
    "- Hbase Installed\n",
    "- Start Hbase: ./start-hase.sh\n",
    "    - This will require the Zookeeper running, or in standalone mode the conf file specifications\n",
    "- Start the Hbase thrift server\n",
    "    - ./hbase thrift start"
   ]
  },
  {
   "cell_type": "markdown",
   "metadata": {},
   "source": [
    "## Util: Create Table: Creates Table if not already present"
   ]
  },
  {
   "cell_type": "code",
   "execution_count": 3,
   "metadata": {},
   "outputs": [],
   "source": [
    "import happybase\n",
    "\n",
    "hostName='localhost'\n",
    "tableName='HBase-Test'\n",
    "column_family_name='cerebral-cortex'\n",
    "column_qualifier_name1='accx'\n",
    "column_qualifier_name2='accy'\n",
    "column_qualifier_name3='accz'\n",
    "\n",
    "# Creating the Table in which we will insert the data\n",
    "def CreateTable():\n",
    "    connection = happybase.Connection(hostName)\n",
    "    connection.open()\n",
    "    tables = connection.tables()\n",
    "    if tableName.encode() in tables :\n",
    "        print('Table', tableName,'already exist')\n",
    "    else:\n",
    "        print(tables)\n",
    "        connection.create_table(\n",
    "             tableName,\n",
    "             {\n",
    "              column_family_name: dict(),  # use defaults\n",
    "              }\n",
    "             )\n",
    "        print('Table',tableName, 'created')"
   ]
  },
  {
   "cell_type": "markdown",
   "metadata": {},
   "source": [
    "# Util: Inserts Data"
   ]
  },
  {
   "cell_type": "code",
   "execution_count": 5,
   "metadata": {
    "collapsed": true
   },
   "outputs": [],
   "source": [
    "def InsertData(data):\n",
    "    connection = happybase.Connection(hostName)\n",
    "    connection.open()\n",
    "    table = connection.table(tableName)\n",
    "    column_name = '{fam}:{qual}'.format(fam=column_family_name,qual=column_qualifier_name1)\n",
    "    row_key = 'row_key{}'.format(123)\n",
    "    table.put(row_key, {column_name: data})"
   ]
  },
  {
   "cell_type": "code",
   "execution_count": null,
   "metadata": {
    "collapsed": true
   },
   "outputs": [],
   "source": []
  }
 ],
 "metadata": {
  "kernelspec": {
   "display_name": "Python [conda env:py37]",
   "language": "python",
   "name": "conda-env-py37-py"
  },
  "language_info": {
   "codemirror_mode": {
    "name": "ipython",
    "version": 3
   },
   "file_extension": ".py",
   "mimetype": "text/x-python",
   "name": "python",
   "nbconvert_exporter": "python",
   "pygments_lexer": "ipython3",
   "version": "3.5.4"
  }
 },
 "nbformat": 4,
 "nbformat_minor": 2
}
