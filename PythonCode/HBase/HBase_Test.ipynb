{
 "cells": [
  {
   "cell_type": "markdown",
   "metadata": {},
   "source": [
    "# Hbase in Python\n",
    "## Requirements\n",
    "- Hbase Installed\n",
    "- Start Hbase: ./start-hase.sh\n",
    "    - This will require the Zookeeper running, or in standalone mode the conf file specifications\n",
    "- Start the Hbase thrift server\n",
    "    - ./hbase thrift start"
   ]
  },
  {
   "cell_type": "markdown",
   "metadata": {},
   "source": [
    "## Util: Create Table: Creates Table if not already present"
   ]
  },
  {
   "cell_type": "code",
   "execution_count": 31,
   "metadata": {},
   "outputs": [],
   "source": [
    "import happybase\n",
    "\n",
    "hostName='localhost'\n",
    "tableName='HBase-Test'\n",
    "column_family_name='cerebral-cortex'\n",
    "column_qualifier_name1='accx'\n",
    "column_qualifier_name2='accy'\n",
    "column_qualifier_name3='accz'\n",
    "\n",
    "# Creating the Table in which we will insert the data\n",
    "def CreateTable():\n",
    "    print(\"-\"*200)\n",
    "    print(\"CreateTable Called\")\n",
    "    connection = happybase.Connection(hostName)\n",
    "    connection.open()\n",
    "    tables = connection.tables()\n",
    "    if tableName.encode() in tables :\n",
    "        print(\"Table\", tableName,\"already exist\")\n",
    "        print(\"Current Tables in the Hbase:\\n\",tables)\n",
    "    else:\n",
    "        print(\"Current Tables in the Hbase:\\n\"+tables)\n",
    "        connection.create_table(\n",
    "             tableName,\n",
    "             {\n",
    "              column_family_name: dict(),  # use defaults\n",
    "              }\n",
    "             )\n",
    "        print('Table',tableName, 'created')"
   ]
  },
  {
   "cell_type": "markdown",
   "metadata": {},
   "source": [
    "# Util: Inserts Data"
   ]
  },
  {
   "cell_type": "code",
   "execution_count": 35,
   "metadata": {},
   "outputs": [],
   "source": [
    "def InsertData(data):\n",
    "    print(\"-\"*200)\n",
    "    print(\"InsertData Called\")\n",
    "    connection = happybase.Connection(hostName)\n",
    "    connection.open()\n",
    "    table = connection.table(tableName)\n",
    "    column_name = '{fam}:{qual}'.format(fam=column_family_name,qual=column_qualifier_name1)\n",
    "    row_key = 'row_key{}'.format(123)\n",
    "    b=table.put(row_key, {column_name: data})\n",
    "    print(b)"
   ]
  },
  {
   "cell_type": "markdown",
   "metadata": {},
   "source": [
    "# Util: GetData"
   ]
  },
  {
   "cell_type": "code",
   "execution_count": 33,
   "metadata": {
    "collapsed": true
   },
   "outputs": [],
   "source": [
    "def GetData():\n",
    "    print(\"-\"*200)\n",
    "    print(\"GetData Called\")\n",
    "    connection = happybase.Connection(hostName)\n",
    "    connection.open()\n",
    "    table = connection.table(tableName)\n",
    "    key = 'row_key123'.encode('utf-8')\n",
    "    column_name = '{fam}:{qual}'.format(fam=column_family_name,qual=column_qualifier_name1)\n",
    "    row = table.row(key)\n",
    "    print('\\t{}: {}'.format(key, row[column_name.encode('utf-8')]))"
   ]
  },
  {
   "cell_type": "markdown",
   "metadata": {},
   "source": [
    "# Main Testing Code Blow"
   ]
  },
  {
   "cell_type": "code",
   "execution_count": 38,
   "metadata": {},
   "outputs": [
    {
     "name": "stdout",
     "output_type": "stream",
     "text": [
      "--------------------------------------------------------------------------------------------------------------------------------------------------------------------------------------------------------\n",
      "CreateTable Called\n",
      "Table HBase-Test already exist\n",
      "Current Tables in the Hbase:\n",
      " [b'Geomesa', b'Geomesa_GeoMesaTable_id', b'Geomesa_GeoMesaTable_z2', b'Geomesa_GeoMesaTable_z3', b'Geomesa_MetroInsight_id', b'Geomesa_MetroInsight_z2', b'Geomesa_MetroInsight_z3', b'HBase-Test']\n",
      "--------------------------------------------------------------------------------------------------------------------------------------------------------------------------------------------------------\n",
      "InsertData Called\n",
      "None\n",
      "--------------------------------------------------------------------------------------------------------------------------------------------------------------------------------------------------------\n",
      "GetData Called\n",
      "\tb'row_key123': b'Sample_Data'\n"
     ]
    }
   ],
   "source": [
    "CreateTable()\n",
    "InsertData(\"Sample_Data\")\n",
    "GetData()"
   ]
  },
  {
   "cell_type": "code",
   "execution_count": null,
   "metadata": {
    "collapsed": true
   },
   "outputs": [],
   "source": []
  }
 ],
 "metadata": {
  "kernelspec": {
   "display_name": "Python [conda env:py37]",
   "language": "python",
   "name": "conda-env-py37-py"
  },
  "language_info": {
   "codemirror_mode": {
    "name": "ipython",
    "version": 3
   },
   "file_extension": ".py",
   "mimetype": "text/x-python",
   "name": "python",
   "nbconvert_exporter": "python",
   "pygments_lexer": "ipython3",
   "version": "3.5.4"
  }
 },
 "nbformat": 4,
 "nbformat_minor": 2
}
